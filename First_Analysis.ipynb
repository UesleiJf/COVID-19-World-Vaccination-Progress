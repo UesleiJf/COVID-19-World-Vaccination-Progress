{
 "cells": [
  {
   "cell_type": "code",
   "execution_count": 1,
   "id": "particular-wealth",
   "metadata": {},
   "outputs": [],
   "source": [
    "import warnings\n",
    "import pandas as pd\n",
    "import seaborn as sns\n",
    "import matplotlib.pyplot as plt\n",
    "from sklearn import preprocessing"
   ]
  },
  {
   "cell_type": "code",
   "execution_count": 2,
   "id": "strange-destruction",
   "metadata": {},
   "outputs": [],
   "source": [
    "# ignorando erros\n",
    "warnings.filterwarnings('ignore')"
   ]
  },
  {
   "cell_type": "code",
   "execution_count": 3,
   "id": "optional-reaction",
   "metadata": {},
   "outputs": [],
   "source": [
    "df = pd.read_csv('dataset/country_vaccinations.csv')"
   ]
  },
  {
   "cell_type": "code",
   "execution_count": 4,
   "id": "technological-carnival",
   "metadata": {},
   "outputs": [
    {
     "data": {
      "text/plain": [
       "(5457, 15)"
      ]
     },
     "execution_count": 4,
     "metadata": {},
     "output_type": "execute_result"
    }
   ],
   "source": [
    "df.shape"
   ]
  },
  {
   "cell_type": "code",
   "execution_count": 5,
   "id": "utility-chester",
   "metadata": {},
   "outputs": [
    {
     "data": {
      "text/plain": [
       "True"
      ]
     },
     "execution_count": 5,
     "metadata": {},
     "output_type": "execute_result"
    }
   ],
   "source": [
    "df.isnull().values.any()"
   ]
  },
  {
   "cell_type": "code",
   "execution_count": 12,
   "id": "tracked-orchestra",
   "metadata": {},
   "outputs": [
    {
     "data": {
      "text/html": [
       "<div>\n",
       "<style scoped>\n",
       "    .dataframe tbody tr th:only-of-type {\n",
       "        vertical-align: middle;\n",
       "    }\n",
       "\n",
       "    .dataframe tbody tr th {\n",
       "        vertical-align: top;\n",
       "    }\n",
       "\n",
       "    .dataframe thead th {\n",
       "        text-align: right;\n",
       "    }\n",
       "</style>\n",
       "<table border=\"1\" class=\"dataframe\">\n",
       "  <thead>\n",
       "    <tr style=\"text-align: right;\">\n",
       "      <th></th>\n",
       "      <th>country</th>\n",
       "      <th>iso_code</th>\n",
       "      <th>date</th>\n",
       "      <th>total_vaccinations</th>\n",
       "      <th>people_vaccinated</th>\n",
       "      <th>people_fully_vaccinated</th>\n",
       "      <th>daily_vaccinations_raw</th>\n",
       "      <th>daily_vaccinations</th>\n",
       "      <th>total_vaccinations_per_hundred</th>\n",
       "      <th>people_vaccinated_per_hundred</th>\n",
       "      <th>people_fully_vaccinated_per_hundred</th>\n",
       "      <th>daily_vaccinations_per_million</th>\n",
       "      <th>vaccines</th>\n",
       "      <th>source_name</th>\n",
       "      <th>source_website</th>\n",
       "    </tr>\n",
       "  </thead>\n",
       "  <tbody>\n",
       "    <tr>\n",
       "      <th>0</th>\n",
       "      <td>Albania</td>\n",
       "      <td>ALB</td>\n",
       "      <td>2021-01-10</td>\n",
       "      <td>0.0</td>\n",
       "      <td>0.0</td>\n",
       "      <td>NaN</td>\n",
       "      <td>NaN</td>\n",
       "      <td>NaN</td>\n",
       "      <td>0.0</td>\n",
       "      <td>0.0</td>\n",
       "      <td>NaN</td>\n",
       "      <td>NaN</td>\n",
       "      <td>Pfizer/BioNTech</td>\n",
       "      <td>Ministry of Health</td>\n",
       "      <td>https://shendetesia.gov.al/covid19-ministria-e...</td>\n",
       "    </tr>\n",
       "    <tr>\n",
       "      <th>1</th>\n",
       "      <td>Albania</td>\n",
       "      <td>ALB</td>\n",
       "      <td>2021-01-11</td>\n",
       "      <td>NaN</td>\n",
       "      <td>NaN</td>\n",
       "      <td>NaN</td>\n",
       "      <td>NaN</td>\n",
       "      <td>64.0</td>\n",
       "      <td>NaN</td>\n",
       "      <td>NaN</td>\n",
       "      <td>NaN</td>\n",
       "      <td>22.0</td>\n",
       "      <td>Pfizer/BioNTech</td>\n",
       "      <td>Ministry of Health</td>\n",
       "      <td>https://shendetesia.gov.al/covid19-ministria-e...</td>\n",
       "    </tr>\n",
       "  </tbody>\n",
       "</table>\n",
       "</div>"
      ],
      "text/plain": [
       "   country iso_code        date  total_vaccinations  people_vaccinated  \\\n",
       "0  Albania      ALB  2021-01-10                 0.0                0.0   \n",
       "1  Albania      ALB  2021-01-11                 NaN                NaN   \n",
       "\n",
       "   people_fully_vaccinated  daily_vaccinations_raw  daily_vaccinations  \\\n",
       "0                      NaN                     NaN                 NaN   \n",
       "1                      NaN                     NaN                64.0   \n",
       "\n",
       "   total_vaccinations_per_hundred  people_vaccinated_per_hundred  \\\n",
       "0                             0.0                            0.0   \n",
       "1                             NaN                            NaN   \n",
       "\n",
       "   people_fully_vaccinated_per_hundred  daily_vaccinations_per_million  \\\n",
       "0                                  NaN                             NaN   \n",
       "1                                  NaN                            22.0   \n",
       "\n",
       "          vaccines         source_name  \\\n",
       "0  Pfizer/BioNTech  Ministry of Health   \n",
       "1  Pfizer/BioNTech  Ministry of Health   \n",
       "\n",
       "                                      source_website  \n",
       "0  https://shendetesia.gov.al/covid19-ministria-e...  \n",
       "1  https://shendetesia.gov.al/covid19-ministria-e...  "
      ]
     },
     "execution_count": 12,
     "metadata": {},
     "output_type": "execute_result"
    }
   ],
   "source": [
    "df.head(5)"
   ]
  },
  {
   "cell_type": "code",
   "execution_count": 25,
   "id": "sensitive-australian",
   "metadata": {},
   "outputs": [],
   "source": [
    "vacinas_no_brasil = (df['country'] == 'Brazil')\n",
    "vacinas_no_brasil = df[vacinas_no_brasil]\n",
    "\n",
    "dias_vacinacao = (df['date'] != '') & (df['country'] == 'Brazil')\n",
    "dias_vacinacao = df[dias_vacinacao]"
   ]
  },
  {
   "cell_type": "code",
   "execution_count": 26,
   "id": "beneficial-webster",
   "metadata": {},
   "outputs": [
    {
     "data": {
      "text/plain": [
       "(51, 15)"
      ]
     },
     "execution_count": 26,
     "metadata": {},
     "output_type": "execute_result"
    }
   ],
   "source": [
    "vacinas_no_brasil.shape"
   ]
  },
  {
   "cell_type": "code",
   "execution_count": 29,
   "id": "pleasant-telescope",
   "metadata": {},
   "outputs": [
    {
     "data": {
      "text/plain": [
       "country                                                                     Brazil\n",
       "iso_code                                                                       BRA\n",
       "date                                                                    2021-03-07\n",
       "total_vaccinations                                                      10830688.0\n",
       "people_vaccinated                                                        8142004.0\n",
       "people_fully_vaccinated                                                  2688684.0\n",
       "daily_vaccinations_raw                                                    551353.0\n",
       "daily_vaccinations                                                        342446.0\n",
       "total_vaccinations_per_hundred                                                 5.1\n",
       "people_vaccinated_per_hundred                                                 3.83\n",
       "people_fully_vaccinated_per_hundred                                           1.26\n",
       "daily_vaccinations_per_million                                              1611.0\n",
       "vaccines                                               Oxford/AstraZeneca, Sinovac\n",
       "source_name                            Regional governments via Coronavirus Brasil\n",
       "source_website                                  https://coronavirusbra1.github.io/\n",
       "dtype: object"
      ]
     },
     "execution_count": 29,
     "metadata": {},
     "output_type": "execute_result"
    }
   ],
   "source": [
    "dias_vacinacao.max()"
   ]
  }
 ],
 "metadata": {
  "kernelspec": {
   "display_name": "Python 3",
   "language": "python",
   "name": "python3"
  },
  "language_info": {
   "codemirror_mode": {
    "name": "ipython",
    "version": 3
   },
   "file_extension": ".py",
   "mimetype": "text/x-python",
   "name": "python",
   "nbconvert_exporter": "python",
   "pygments_lexer": "ipython3",
   "version": "3.8.5"
  }
 },
 "nbformat": 4,
 "nbformat_minor": 5
}
